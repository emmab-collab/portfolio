{
  "metadata": {
    "kernelspec": {
      "language": "python",
      "display_name": "Python 3",
      "name": "python3"
    },
    "language_info": {
      "name": "python",
      "version": "3.11.11",
      "mimetype": "text/x-python",
      "codemirror_mode": {
        "name": "ipython",
        "version": 3
      },
      "pygments_lexer": "ipython3",
      "nbconvert_exporter": "python",
      "file_extension": ".py"
    },
    "kaggle": {
      "accelerator": "none",
      "dataSources": [],
      "dockerImageVersionId": 31041,
      "isInternetEnabled": true,
      "language": "python",
      "sourceType": "notebook",
      "isGpuEnabled": false
    },
    "colab": {
      "provenance": [],
      "include_colab_link": true
    }
  },
  "nbformat_minor": 0,
  "nbformat": 4,
  "cells": [
    {
      "cell_type": "markdown",
      "metadata": {
        "id": "view-in-github",
        "colab_type": "text"
      },
      "source": [
        "<a href=\"https://colab.research.google.com/github/emmab-collab/portfolio/blob/main/Digestive_Biopsy_Classification_w_PyTorch_DNN.ipynb\" target=\"_parent\"><img src=\"https://colab.research.google.com/assets/colab-badge.svg\" alt=\"Open In Colab\"/></a>"
      ]
    },
    {
      "cell_type": "code",
      "source": [
        "!pip install medmnist"
      ],
      "metadata": {
        "trusted": true,
        "execution": {
          "iopub.status.busy": "2025-06-09T07:58:49.806183Z",
          "iopub.execute_input": "2025-06-09T07:58:49.806588Z",
          "iopub.status.idle": "2025-06-09T08:00:01.338732Z",
          "shell.execute_reply.started": "2025-06-09T07:58:49.806562Z",
          "shell.execute_reply": "2025-06-09T08:00:01.33802Z"
        },
        "id": "Lo11aR7b0MJ5",
        "outputId": "b3cd6c23-14ed-42f9-cf66-5f44ca1e3b73"
      },
      "outputs": [
        {
          "name": "stdout",
          "text": "Collecting medmnist\n  Downloading medmnist-3.0.2-py3-none-any.whl.metadata (14 kB)\nRequirement already satisfied: numpy in /usr/local/lib/python3.11/dist-packages (from medmnist) (1.26.4)\nRequirement already satisfied: pandas in /usr/local/lib/python3.11/dist-packages (from medmnist) (2.2.3)\nRequirement already satisfied: scikit-learn in /usr/local/lib/python3.11/dist-packages (from medmnist) (1.2.2)\nRequirement already satisfied: scikit-image in /usr/local/lib/python3.11/dist-packages (from medmnist) (0.25.2)\nRequirement already satisfied: tqdm in /usr/local/lib/python3.11/dist-packages (from medmnist) (4.67.1)\nRequirement already satisfied: Pillow in /usr/local/lib/python3.11/dist-packages (from medmnist) (11.1.0)\nCollecting fire (from medmnist)\n  Downloading fire-0.7.0.tar.gz (87 kB)\n\u001b[2K     \u001b[90m━━━━━━━━━━━━━━━━━━━━━━━━━━━━━━━━━━━━━━━━\u001b[0m \u001b[32m87.2/87.2 kB\u001b[0m \u001b[31m4.1 MB/s\u001b[0m eta \u001b[36m0:00:00\u001b[0m\n\u001b[?25h  Preparing metadata (setup.py) ... \u001b[?25l\u001b[?25hdone\nRequirement already satisfied: torch in /usr/local/lib/python3.11/dist-packages (from medmnist) (2.6.0+cu124)\nRequirement already satisfied: torchvision in /usr/local/lib/python3.11/dist-packages (from medmnist) (0.21.0+cu124)\nRequirement already satisfied: termcolor in /usr/local/lib/python3.11/dist-packages (from fire->medmnist) (3.0.1)\nRequirement already satisfied: mkl_fft in /usr/local/lib/python3.11/dist-packages (from numpy->medmnist) (1.3.8)\nRequirement already satisfied: mkl_random in /usr/local/lib/python3.11/dist-packages (from numpy->medmnist) (1.2.4)\nRequirement already satisfied: mkl_umath in /usr/local/lib/python3.11/dist-packages (from numpy->medmnist) (0.1.1)\nRequirement already satisfied: mkl in /usr/local/lib/python3.11/dist-packages (from numpy->medmnist) (2025.1.0)\nRequirement already satisfied: tbb4py in /usr/local/lib/python3.11/dist-packages (from numpy->medmnist) (2022.1.0)\nRequirement already satisfied: mkl-service in /usr/local/lib/python3.11/dist-packages (from numpy->medmnist) (2.4.1)\nRequirement already satisfied: python-dateutil>=2.8.2 in /usr/local/lib/python3.11/dist-packages (from pandas->medmnist) (2.9.0.post0)\nRequirement already satisfied: pytz>=2020.1 in /usr/local/lib/python3.11/dist-packages (from pandas->medmnist) (2025.2)\nRequirement already satisfied: tzdata>=2022.7 in /usr/local/lib/python3.11/dist-packages (from pandas->medmnist) (2025.2)\nRequirement already satisfied: scipy>=1.11.4 in /usr/local/lib/python3.11/dist-packages (from scikit-image->medmnist) (1.15.2)\nRequirement already satisfied: networkx>=3.0 in /usr/local/lib/python3.11/dist-packages (from scikit-image->medmnist) (3.4.2)\nRequirement already satisfied: imageio!=2.35.0,>=2.33 in /usr/local/lib/python3.11/dist-packages (from scikit-image->medmnist) (2.37.0)\nRequirement already satisfied: tifffile>=2022.8.12 in /usr/local/lib/python3.11/dist-packages (from scikit-image->medmnist) (2025.3.30)\nRequirement already satisfied: packaging>=21 in /usr/local/lib/python3.11/dist-packages (from scikit-image->medmnist) (25.0)\nRequirement already satisfied: lazy-loader>=0.4 in /usr/local/lib/python3.11/dist-packages (from scikit-image->medmnist) (0.4)\nRequirement already satisfied: joblib>=1.1.1 in /usr/local/lib/python3.11/dist-packages (from scikit-learn->medmnist) (1.5.0)\nRequirement already satisfied: threadpoolctl>=2.0.0 in /usr/local/lib/python3.11/dist-packages (from scikit-learn->medmnist) (3.6.0)\nRequirement already satisfied: filelock in /usr/local/lib/python3.11/dist-packages (from torch->medmnist) (3.18.0)\nRequirement already satisfied: typing-extensions>=4.10.0 in /usr/local/lib/python3.11/dist-packages (from torch->medmnist) (4.13.2)\nRequirement already satisfied: jinja2 in /usr/local/lib/python3.11/dist-packages (from torch->medmnist) (3.1.6)\nRequirement already satisfied: fsspec in /usr/local/lib/python3.11/dist-packages (from torch->medmnist) (2025.3.2)\nRequirement already satisfied: nvidia-cuda-nvrtc-cu12==12.4.127 in /usr/local/lib/python3.11/dist-packages (from torch->medmnist) (12.4.127)\nRequirement already satisfied: nvidia-cuda-runtime-cu12==12.4.127 in /usr/local/lib/python3.11/dist-packages (from torch->medmnist) (12.4.127)\nRequirement already satisfied: nvidia-cuda-cupti-cu12==12.4.127 in /usr/local/lib/python3.11/dist-packages (from torch->medmnist) (12.4.127)\nCollecting nvidia-cudnn-cu12==9.1.0.70 (from torch->medmnist)\n  Downloading nvidia_cudnn_cu12-9.1.0.70-py3-none-manylinux2014_x86_64.whl.metadata (1.6 kB)\nCollecting nvidia-cublas-cu12==12.4.5.8 (from torch->medmnist)\n  Downloading nvidia_cublas_cu12-12.4.5.8-py3-none-manylinux2014_x86_64.whl.metadata (1.5 kB)\nCollecting nvidia-cufft-cu12==11.2.1.3 (from torch->medmnist)\n  Downloading nvidia_cufft_cu12-11.2.1.3-py3-none-manylinux2014_x86_64.whl.metadata (1.5 kB)\nCollecting nvidia-curand-cu12==10.3.5.147 (from torch->medmnist)\n  Downloading nvidia_curand_cu12-10.3.5.147-py3-none-manylinux2014_x86_64.whl.metadata (1.5 kB)\nCollecting nvidia-cusolver-cu12==11.6.1.9 (from torch->medmnist)\n  Downloading nvidia_cusolver_cu12-11.6.1.9-py3-none-manylinux2014_x86_64.whl.metadata (1.6 kB)\nCollecting nvidia-cusparse-cu12==12.3.1.170 (from torch->medmnist)\n  Downloading nvidia_cusparse_cu12-12.3.1.170-py3-none-manylinux2014_x86_64.whl.metadata (1.6 kB)\nRequirement already satisfied: nvidia-cusparselt-cu12==0.6.2 in /usr/local/lib/python3.11/dist-packages (from torch->medmnist) (0.6.2)\nRequirement already satisfied: nvidia-nccl-cu12==2.21.5 in /usr/local/lib/python3.11/dist-packages (from torch->medmnist) (2.21.5)\nRequirement already satisfied: nvidia-nvtx-cu12==12.4.127 in /usr/local/lib/python3.11/dist-packages (from torch->medmnist) (12.4.127)\nCollecting nvidia-nvjitlink-cu12==12.4.127 (from torch->medmnist)\n  Downloading nvidia_nvjitlink_cu12-12.4.127-py3-none-manylinux2014_x86_64.whl.metadata (1.5 kB)\nRequirement already satisfied: triton==3.2.0 in /usr/local/lib/python3.11/dist-packages (from torch->medmnist) (3.2.0)\nRequirement already satisfied: sympy==1.13.1 in /usr/local/lib/python3.11/dist-packages (from torch->medmnist) (1.13.1)\nRequirement already satisfied: mpmath<1.4,>=1.1.0 in /usr/local/lib/python3.11/dist-packages (from sympy==1.13.1->torch->medmnist) (1.3.0)\nRequirement already satisfied: six>=1.5 in /usr/local/lib/python3.11/dist-packages (from python-dateutil>=2.8.2->pandas->medmnist) (1.17.0)\nRequirement already satisfied: MarkupSafe>=2.0 in /usr/local/lib/python3.11/dist-packages (from jinja2->torch->medmnist) (3.0.2)\nRequirement already satisfied: intel-openmp<2026,>=2024 in /usr/local/lib/python3.11/dist-packages (from mkl->numpy->medmnist) (2024.2.0)\nRequirement already satisfied: tbb==2022.* in /usr/local/lib/python3.11/dist-packages (from mkl->numpy->medmnist) (2022.1.0)\nRequirement already satisfied: tcmlib==1.* in /usr/local/lib/python3.11/dist-packages (from tbb==2022.*->mkl->numpy->medmnist) (1.3.0)\nRequirement already satisfied: intel-cmplr-lib-rt in /usr/local/lib/python3.11/dist-packages (from mkl_umath->numpy->medmnist) (2024.2.0)\nRequirement already satisfied: intel-cmplr-lib-ur==2024.2.0 in /usr/local/lib/python3.11/dist-packages (from intel-openmp<2026,>=2024->mkl->numpy->medmnist) (2024.2.0)\nDownloading medmnist-3.0.2-py3-none-any.whl (25 kB)\nDownloading nvidia_cublas_cu12-12.4.5.8-py3-none-manylinux2014_x86_64.whl (363.4 MB)\n\u001b[2K   \u001b[90m━━━━━━━━━━━━━━━━━━━━━━━━━━━━━━━━━━━━━━━━\u001b[0m \u001b[32m363.4/363.4 MB\u001b[0m \u001b[31m4.7 MB/s\u001b[0m eta \u001b[36m0:00:00\u001b[0m0:00:01\u001b[0m00:01\u001b[0m\n\u001b[?25hDownloading nvidia_cudnn_cu12-9.1.0.70-py3-none-manylinux2014_x86_64.whl (664.8 MB)\n\u001b[2K   \u001b[90m━━━━━━━━━━━━━━━━━━━━━━━━━━━━━━━━━━━━━━━━\u001b[0m \u001b[32m664.8/664.8 MB\u001b[0m \u001b[31m2.5 MB/s\u001b[0m eta \u001b[36m0:00:00\u001b[0m0:00:01\u001b[0m00:01\u001b[0m\n\u001b[?25hDownloading nvidia_cufft_cu12-11.2.1.3-py3-none-manylinux2014_x86_64.whl (211.5 MB)\n\u001b[2K   \u001b[90m━━━━━━━━━━━━━━━━━━━━━━━━━━━━━━━━━━━━━━━━\u001b[0m \u001b[32m211.5/211.5 MB\u001b[0m \u001b[31m8.1 MB/s\u001b[0m eta \u001b[36m0:00:00\u001b[0m0:00:01\u001b[0m00:01\u001b[0m\n\u001b[?25hDownloading nvidia_curand_cu12-10.3.5.147-py3-none-manylinux2014_x86_64.whl (56.3 MB)\n\u001b[2K   \u001b[90m━━━━━━━━━━━━━━━━━━━━━━━━━━━━━━━━━━━━━━━━\u001b[0m \u001b[32m56.3/56.3 MB\u001b[0m \u001b[31m31.0 MB/s\u001b[0m eta \u001b[36m0:00:00\u001b[0m:00:01\u001b[0m00:01\u001b[0m\n\u001b[?25hDownloading nvidia_cusolver_cu12-11.6.1.9-py3-none-manylinux2014_x86_64.whl (127.9 MB)\n\u001b[2K   \u001b[90m━━━━━━━━━━━━━━━━━━━━━━━━━━━━━━━━━━━━━━━━\u001b[0m \u001b[32m127.9/127.9 MB\u001b[0m \u001b[31m9.8 MB/s\u001b[0m eta \u001b[36m0:00:00\u001b[0m0:00:01\u001b[0m00:01\u001b[0m\n\u001b[?25hDownloading nvidia_cusparse_cu12-12.3.1.170-py3-none-manylinux2014_x86_64.whl (207.5 MB)\n\u001b[2K   \u001b[90m━━━━━━━━━━━━━━━━━━━━━━━━━━━━━━━━━━━━━━━━\u001b[0m \u001b[32m207.5/207.5 MB\u001b[0m \u001b[31m8.0 MB/s\u001b[0m eta \u001b[36m0:00:00\u001b[0m0:00:01\u001b[0m00:01\u001b[0m\n\u001b[?25hDownloading nvidia_nvjitlink_cu12-12.4.127-py3-none-manylinux2014_x86_64.whl (21.1 MB)\n\u001b[2K   \u001b[90m━━━━━━━━━━━━━━━━━━━━━━━━━━━━━━━━━━━━━━━━\u001b[0m \u001b[32m21.1/21.1 MB\u001b[0m \u001b[31m62.3 MB/s\u001b[0m eta \u001b[36m0:00:00\u001b[0m:00:01\u001b[0m00:01\u001b[0m\n\u001b[?25hBuilding wheels for collected packages: fire\n  Building wheel for fire (setup.py) ... \u001b[?25l\u001b[?25hdone\n  Created wheel for fire: filename=fire-0.7.0-py3-none-any.whl size=114249 sha256=1902513897b6ce3c248d0c69d8960eb71cc91a91276da3ba3ae6fdfa7e79ac33\n  Stored in directory: /root/.cache/pip/wheels/46/54/24/1624fd5b8674eb1188623f7e8e17cdf7c0f6c24b609dfb8a89\nSuccessfully built fire\nInstalling collected packages: nvidia-nvjitlink-cu12, nvidia-curand-cu12, nvidia-cufft-cu12, nvidia-cublas-cu12, fire, nvidia-cusparse-cu12, nvidia-cudnn-cu12, nvidia-cusolver-cu12, medmnist\n  Attempting uninstall: nvidia-nvjitlink-cu12\n    Found existing installation: nvidia-nvjitlink-cu12 12.9.41\n    Uninstalling nvidia-nvjitlink-cu12-12.9.41:\n      Successfully uninstalled nvidia-nvjitlink-cu12-12.9.41\n  Attempting uninstall: nvidia-curand-cu12\n    Found existing installation: nvidia-curand-cu12 10.3.10.19\n    Uninstalling nvidia-curand-cu12-10.3.10.19:\n      Successfully uninstalled nvidia-curand-cu12-10.3.10.19\n  Attempting uninstall: nvidia-cufft-cu12\n    Found existing installation: nvidia-cufft-cu12 11.4.0.6\n    Uninstalling nvidia-cufft-cu12-11.4.0.6:\n      Successfully uninstalled nvidia-cufft-cu12-11.4.0.6\n  Attempting uninstall: nvidia-cublas-cu12\n    Found existing installation: nvidia-cublas-cu12 12.9.0.13\n    Uninstalling nvidia-cublas-cu12-12.9.0.13:\n      Successfully uninstalled nvidia-cublas-cu12-12.9.0.13\n  Attempting uninstall: nvidia-cusparse-cu12\n    Found existing installation: nvidia-cusparse-cu12 12.5.9.5\n    Uninstalling nvidia-cusparse-cu12-12.5.9.5:\n      Successfully uninstalled nvidia-cusparse-cu12-12.5.9.5\n  Attempting uninstall: nvidia-cudnn-cu12\n    Found existing installation: nvidia-cudnn-cu12 9.3.0.75\n    Uninstalling nvidia-cudnn-cu12-9.3.0.75:\n      Successfully uninstalled nvidia-cudnn-cu12-9.3.0.75\n  Attempting uninstall: nvidia-cusolver-cu12\n    Found existing installation: nvidia-cusolver-cu12 11.7.4.40\n    Uninstalling nvidia-cusolver-cu12-11.7.4.40:\n      Successfully uninstalled nvidia-cusolver-cu12-11.7.4.40\nSuccessfully installed fire-0.7.0 medmnist-3.0.2 nvidia-cublas-cu12-12.4.5.8 nvidia-cudnn-cu12-9.1.0.70 nvidia-cufft-cu12-11.2.1.3 nvidia-curand-cu12-10.3.5.147 nvidia-cusolver-cu12-11.6.1.9 nvidia-cusparse-cu12-12.3.1.170 nvidia-nvjitlink-cu12-12.4.127\n",
          "output_type": "stream"
        }
      ],
      "execution_count": null
    },
    {
      "cell_type": "code",
      "source": [
        "import numpy as np\n",
        "\n",
        "import matplotlib.pyplot as plt\n",
        "%matplotlib inline\n",
        "\n",
        "import torch\n",
        "import torchvision\n",
        "from torchvision.transforms import ToTensor\n",
        "from torch.utils.data.dataloader import DataLoader\n",
        "\n",
        "from medmnist import INFO, PathMNIST"
      ],
      "metadata": {
        "trusted": true,
        "execution": {
          "iopub.status.busy": "2025-06-09T08:01:21.543092Z",
          "iopub.execute_input": "2025-06-09T08:01:21.543404Z",
          "iopub.status.idle": "2025-06-09T08:01:28.546176Z",
          "shell.execute_reply.started": "2025-06-09T08:01:21.543372Z",
          "shell.execute_reply": "2025-06-09T08:01:28.545389Z"
        },
        "id": "A3__7yvi0MKM"
      },
      "outputs": [],
      "execution_count": null
    },
    {
      "cell_type": "markdown",
      "source": [
        "# **1. Preparing the data**"
      ],
      "metadata": {
        "id": "ZbMwIXVv0MKS"
      }
    },
    {
      "cell_type": "code",
      "source": [
        "from torchvision.transforms import ToTensor, Normalize, Compose"
      ],
      "metadata": {
        "trusted": true,
        "execution": {
          "iopub.status.busy": "2025-06-09T09:40:25.666586Z",
          "iopub.execute_input": "2025-06-09T09:40:25.666866Z",
          "iopub.status.idle": "2025-06-09T09:40:25.67046Z",
          "shell.execute_reply.started": "2025-06-09T09:40:25.666847Z",
          "shell.execute_reply": "2025-06-09T09:40:25.669769Z"
        },
        "id": "6YihaRaJ0MKf"
      },
      "outputs": [],
      "execution_count": null
    },
    {
      "cell_type": "code",
      "source": [
        "transform = Compose([\n",
        "    ToTensor(),\n",
        "    Normalize((0.5,), (0.5,))  # normalise en centrant autour de 0, en divisant par 0.5 (par exemple)\n",
        "])\n",
        "\n",
        "train_dataset = PathMNIST(split='train', download=True, transform=transform)\n",
        "val_dataset = PathMNIST(split='val', download=True, transform=transform)\n",
        "test_dataset = PathMNIST(split='test', download=True, transform=transform)"
      ],
      "metadata": {
        "trusted": true,
        "execution": {
          "iopub.status.busy": "2025-06-09T09:40:27.230451Z",
          "iopub.execute_input": "2025-06-09T09:40:27.231024Z",
          "iopub.status.idle": "2025-06-09T09:40:30.048973Z",
          "shell.execute_reply.started": "2025-06-09T09:40:27.230992Z",
          "shell.execute_reply": "2025-06-09T09:40:30.048439Z"
        },
        "id": "LWneV3PI0MKt"
      },
      "outputs": [],
      "execution_count": null
    },
    {
      "cell_type": "code",
      "source": [
        "img,label=train_dataset[0]\n",
        "img.shape,label"
      ],
      "metadata": {
        "trusted": true,
        "execution": {
          "iopub.status.busy": "2025-06-09T09:40:31.755278Z",
          "iopub.execute_input": "2025-06-09T09:40:31.755768Z",
          "iopub.status.idle": "2025-06-09T09:40:31.761869Z",
          "shell.execute_reply.started": "2025-06-09T09:40:31.755746Z",
          "shell.execute_reply": "2025-06-09T09:40:31.761186Z"
        },
        "id": "XF2SJ_y50MKw",
        "outputId": "149286ed-c59f-4ab7-da94-5ff249c27858"
      },
      "outputs": [
        {
          "execution_count": 102,
          "output_type": "execute_result",
          "data": {
            "text/plain": "(torch.Size([3, 28, 28]), array([0]))"
          },
          "metadata": {}
        }
      ],
      "execution_count": null
    },
    {
      "cell_type": "code",
      "source": [
        "plt.imshow(img[0],cmap='gray')"
      ],
      "metadata": {
        "trusted": true,
        "execution": {
          "iopub.status.busy": "2025-06-09T09:40:41.288984Z",
          "iopub.execute_input": "2025-06-09T09:40:41.289558Z",
          "iopub.status.idle": "2025-06-09T09:40:41.426977Z",
          "shell.execute_reply.started": "2025-06-09T09:40:41.289537Z",
          "shell.execute_reply": "2025-06-09T09:40:41.426265Z"
        },
        "id": "CGFAlVa60MK0",
        "outputId": "5bf54c3b-5e4e-44d2-a48b-89e660549746"
      },
      "outputs": [
        {
          "execution_count": 104,
          "output_type": "execute_result",
          "data": {
            "text/plain": "<matplotlib.image.AxesImage at 0x781da5d37090>"
          },
          "metadata": {}
        },
        {
          "output_type": "display_data",
          "data": {
            "text/plain": "<Figure size 640x480 with 1 Axes>",
            "image/png": "[encoded data removed]"
          },
          "metadata": {}
        }
      ],
      "execution_count": null
    },
    {
      "cell_type": "code",
      "source": [
        "img[0,10:15,10:15]"
      ],
      "metadata": {
        "trusted": true,
        "execution": {
          "iopub.status.busy": "2025-06-09T09:40:43.972765Z",
          "iopub.execute_input": "2025-06-09T09:40:43.973308Z",
          "iopub.status.idle": "2025-06-09T09:40:43.978801Z",
          "shell.execute_reply.started": "2025-06-09T09:40:43.973285Z",
          "shell.execute_reply": "2025-06-09T09:40:43.978296Z"
        },
        "id": "3L0eIiIf0MK5",
        "outputId": "ba62b7cd-464f-42e3-ce51-e995c159a176"
      },
      "outputs": [
        {
          "execution_count": 105,
          "output_type": "execute_result",
          "data": {
            "text/plain": "tensor([[0.7255, 0.7333, 0.7333, 0.7333, 0.7255],\n        [0.7255, 0.7333, 0.7333, 0.7255, 0.7333],\n        [0.7333, 0.7412, 0.7176, 0.7176, 0.7333],\n        [0.7255, 0.7255, 0.7176, 0.7176, 0.7176],\n        [0.7098, 0.7098, 0.7176, 0.7098, 0.7255]])"
          },
          "metadata": {}
        }
      ],
      "execution_count": null
    },
    {
      "cell_type": "code",
      "source": [
        "batch_size=100\n",
        "\n",
        "\n",
        "train_dl = DataLoader(train_dataset, batch_size=batch_size, shuffle=True)\n",
        "val_dl = DataLoader(val_dataset, batch_size=batch_size, shuffle=False)\n",
        "test_dl = DataLoader(test_dataset, batch_size=batch_size, shuffle=False)"
      ],
      "metadata": {
        "trusted": true,
        "execution": {
          "iopub.status.busy": "2025-06-09T09:40:48.876963Z",
          "iopub.execute_input": "2025-06-09T09:40:48.877254Z",
          "iopub.status.idle": "2025-06-09T09:40:48.883116Z",
          "shell.execute_reply.started": "2025-06-09T09:40:48.877235Z",
          "shell.execute_reply": "2025-06-09T09:40:48.882399Z"
        },
        "id": "IbcldIz10MK-"
      },
      "outputs": [],
      "execution_count": null
    },
    {
      "cell_type": "code",
      "source": [
        "data_flag = 'pathmnist'\n",
        "info = INFO[data_flag]\n",
        "labels = info['label']\n",
        "print(f\"Les labels: \\n{labels}\\n\")\n",
        "num_classes = len(labels)\n",
        "print(f\"Nombre de classes : {num_classes}\")"
      ],
      "metadata": {
        "trusted": true,
        "execution": {
          "iopub.status.busy": "2025-06-09T09:40:52.356888Z",
          "iopub.execute_input": "2025-06-09T09:40:52.357567Z",
          "iopub.status.idle": "2025-06-09T09:40:52.362043Z",
          "shell.execute_reply.started": "2025-06-09T09:40:52.357543Z",
          "shell.execute_reply": "2025-06-09T09:40:52.36128Z"
        },
        "id": "kQag0UjK0MLB",
        "outputId": "37a4abf2-e28d-4e91-ca2f-2923cae343dd"
      },
      "outputs": [
        {
          "name": "stdout",
          "text": "Les labels: \n{'0': 'adipose', '1': 'background', '2': 'debris', '3': 'lymphocytes', '4': 'mucus', '5': 'smooth muscle', '6': 'normal colon mucosa', '7': 'cancer-associated stroma', '8': 'colorectal adenocarcinoma epithelium'}\n\nNombre de classes : 9\n",
          "output_type": "stream"
        }
      ],
      "execution_count": null
    },
    {
      "cell_type": "code",
      "source": [
        "print(f\"Taille du dataset train : {len(train_dataset)}\")\n",
        "print(f\"Taille du dataset val : {len(val_dataset)}\")\n",
        "print(f\"Taille du dataset test : {len(test_dataset)}\")"
      ],
      "metadata": {
        "trusted": true,
        "execution": {
          "iopub.status.busy": "2025-06-09T09:40:59.319774Z",
          "iopub.execute_input": "2025-06-09T09:40:59.320229Z",
          "iopub.status.idle": "2025-06-09T09:40:59.32519Z",
          "shell.execute_reply.started": "2025-06-09T09:40:59.320201Z",
          "shell.execute_reply": "2025-06-09T09:40:59.324354Z"
        },
        "id": "1Sw-K6HP0MLE",
        "outputId": "86b383f1-7819-4aa7-f137-3bd5b3bd392b"
      },
      "outputs": [
        {
          "name": "stdout",
          "text": "Taille du dataset train : 89996\nTaille du dataset val : 10004\nTaille du dataset test : 7180\n",
          "output_type": "stream"
        }
      ],
      "execution_count": null
    },
    {
      "cell_type": "markdown",
      "source": [
        "# **2. Model**"
      ],
      "metadata": {
        "id": "uXLyuR3v0MLK"
      }
    },
    {
      "cell_type": "markdown",
      "source": [
        "## **1. Création du modèle**"
      ],
      "metadata": {
        "id": "7FjV23yX0MLL"
      }
    },
    {
      "cell_type": "code",
      "source": [
        "import torch.nn as nn #neural_network_package\n",
        "import torch.nn.functional as F #softmax, cross_entropy"
      ],
      "metadata": {
        "trusted": true,
        "execution": {
          "iopub.status.busy": "2025-06-09T08:27:18.46684Z",
          "iopub.execute_input": "2025-06-09T08:27:18.467402Z",
          "iopub.status.idle": "2025-06-09T08:27:18.470627Z",
          "shell.execute_reply.started": "2025-06-09T08:27:18.467377Z",
          "shell.execute_reply": "2025-06-09T08:27:18.469808Z"
        },
        "id": "vOJyAQ2Y0MLM"
      },
      "outputs": [],
      "execution_count": null
    },
    {
      "cell_type": "code",
      "source": [
        "for xb,yb in train_dl:\n",
        "    xb=xb.reshape(xb.size(0),-1)\n",
        "    print(xb.shape)\n",
        "    break"
      ],
      "metadata": {
        "trusted": true,
        "execution": {
          "iopub.status.busy": "2025-06-09T09:41:02.807973Z",
          "iopub.execute_input": "2025-06-09T09:41:02.808689Z",
          "iopub.status.idle": "2025-06-09T09:41:02.840138Z",
          "shell.execute_reply.started": "2025-06-09T09:41:02.808666Z",
          "shell.execute_reply": "2025-06-09T09:41:02.839393Z"
        },
        "id": "PogGyxLl0MLO",
        "outputId": "aa9b6946-0581-4b69-f9d8-2843abc16e7e"
      },
      "outputs": [
        {
          "name": "stdout",
          "text": "torch.Size([100, 2352])\n",
          "output_type": "stream"
        }
      ],
      "execution_count": null
    },
    {
      "cell_type": "code",
      "source": [
        "class PathMnistModel(nn.Module): #une classe de modèle\n",
        "    def __init__(self,in_size,hidden_size,out_size):\n",
        "        super().__init__() #superconstructeur de la classe mère\n",
        "        self.linear1=nn.Linear(in_size,hidden_size)\n",
        "        self.linear2=nn.Linear(hidden_size,out_size)\n",
        "\n",
        "    def forward(self,xb):\n",
        "        xb=xb.reshape(xb.size(0),-1) #xb est un batch of input\n",
        "        out=self.linear1(xb)\n",
        "        out=F.relu(out)\n",
        "        out=self.linear2(out)\n",
        "        return out"
      ],
      "metadata": {
        "trusted": true,
        "execution": {
          "iopub.status.busy": "2025-06-09T09:41:05.599641Z",
          "iopub.execute_input": "2025-06-09T09:41:05.599919Z",
          "iopub.status.idle": "2025-06-09T09:41:05.604815Z",
          "shell.execute_reply.started": "2025-06-09T09:41:05.5999Z",
          "shell.execute_reply": "2025-06-09T09:41:05.604189Z"
        },
        "id": "qpuOG3yY0MLQ"
      },
      "outputs": [],
      "execution_count": null
    },
    {
      "cell_type": "code",
      "source": [
        "input_size=2352 #28*28*3=2352\n",
        "num_classes = 9\n",
        "model=PathMnistModel(input_size,hidden_size=256,out_size=num_classes) #on crée un modèle de la classe MnistModel"
      ],
      "metadata": {
        "trusted": true,
        "execution": {
          "iopub.status.busy": "2025-06-09T09:41:07.666719Z",
          "iopub.execute_input": "2025-06-09T09:41:07.667001Z",
          "iopub.status.idle": "2025-06-09T09:41:07.675469Z",
          "shell.execute_reply.started": "2025-06-09T09:41:07.66698Z",
          "shell.execute_reply": "2025-06-09T09:41:07.674807Z"
        },
        "id": "ENUfM4m40MLT"
      },
      "outputs": [],
      "execution_count": null
    },
    {
      "cell_type": "code",
      "source": [
        "for t in model.parameters():\n",
        "    print(t.shape)"
      ],
      "metadata": {
        "trusted": true,
        "execution": {
          "iopub.status.busy": "2025-06-09T09:41:09.286883Z",
          "iopub.execute_input": "2025-06-09T09:41:09.287185Z",
          "iopub.status.idle": "2025-06-09T09:41:09.291387Z",
          "shell.execute_reply.started": "2025-06-09T09:41:09.287164Z",
          "shell.execute_reply": "2025-06-09T09:41:09.290752Z"
        },
        "id": "xI9_DKVK0MLV",
        "outputId": "e997a8cc-4815-444a-990d-752c624595d4"
      },
      "outputs": [
        {
          "name": "stdout",
          "text": "torch.Size([256, 2352])\ntorch.Size([256])\ntorch.Size([9, 256])\ntorch.Size([9])\n",
          "output_type": "stream"
        }
      ],
      "execution_count": null
    },
    {
      "cell_type": "code",
      "source": [
        "for images,labels in train_dl:\n",
        "    print('images.shape: ', images.shape)\n",
        "    outputs=model(images)\n",
        "    loss=F.cross_entropy(outputs,labels.squeeze())\n",
        "    print('Loss:',loss.item())\n",
        "    break\n",
        "print('outputs.shape: ',outputs.shape)\n",
        "print('Sample outputs :\\n',outputs[:2].data)"
      ],
      "metadata": {
        "trusted": true,
        "execution": {
          "iopub.status.busy": "2025-06-09T09:41:11.626909Z",
          "iopub.execute_input": "2025-06-09T09:41:11.627215Z",
          "iopub.status.idle": "2025-06-09T09:41:11.661265Z",
          "shell.execute_reply.started": "2025-06-09T09:41:11.627194Z",
          "shell.execute_reply": "2025-06-09T09:41:11.660658Z"
        },
        "id": "QJkWde6g0MLZ",
        "outputId": "210245c9-8e0c-496e-9769-dc7318ea5746"
      },
      "outputs": [
        {
          "name": "stdout",
          "text": "images.shape:  torch.Size([100, 3, 28, 28])\nLoss: 2.209897518157959\noutputs.shape:  torch.Size([100, 9])\nSample outputs :\n tensor([[ 0.0046, -0.3310,  0.0511, -0.0203,  0.1140, -0.1316,  0.0456, -0.1283,\n          0.1462],\n        [-0.0224, -0.1429,  0.0578, -0.0115,  0.0258,  0.0092,  0.0695, -0.1662,\n          0.1055]])\n",
          "output_type": "stream"
        }
      ],
      "execution_count": null
    },
    {
      "cell_type": "markdown",
      "source": [
        "## **2. Using a GPU**"
      ],
      "metadata": {
        "id": "DE7tAGO10MLd"
      }
    },
    {
      "cell_type": "code",
      "source": [
        "torch.cuda.is_available()"
      ],
      "metadata": {
        "trusted": true,
        "execution": {
          "iopub.status.busy": "2025-06-09T08:33:28.656989Z",
          "iopub.execute_input": "2025-06-09T08:33:28.657548Z",
          "iopub.status.idle": "2025-06-09T08:33:28.7175Z",
          "shell.execute_reply.started": "2025-06-09T08:33:28.657526Z",
          "shell.execute_reply": "2025-06-09T08:33:28.716756Z"
        },
        "id": "U_7U6EK80MLd",
        "outputId": "defdc039-9b84-4b2c-b41b-0d67ee51281a"
      },
      "outputs": [
        {
          "execution_count": 28,
          "output_type": "execute_result",
          "data": {
            "text/plain": "True"
          },
          "metadata": {}
        }
      ],
      "execution_count": null
    },
    {
      "cell_type": "code",
      "source": [
        "device = torch.device('cuda' if torch.cuda.is_available() else 'cpu')"
      ],
      "metadata": {
        "trusted": true,
        "execution": {
          "iopub.status.busy": "2025-06-09T08:34:03.263313Z",
          "iopub.execute_input": "2025-06-09T08:34:03.263781Z",
          "iopub.status.idle": "2025-06-09T08:34:03.267366Z",
          "shell.execute_reply.started": "2025-06-09T08:34:03.263759Z",
          "shell.execute_reply": "2025-06-09T08:34:03.26666Z"
        },
        "id": "5G4iPcIO0MLh"
      },
      "outputs": [],
      "execution_count": null
    },
    {
      "cell_type": "code",
      "source": [
        "def to_device(data,device):\n",
        "    if isinstance(data,(list,tuple)): #si notre dataset est une liste ou tuple\n",
        "        return [to_device(x,device)for x in data]\n",
        "    return data.to(device,non_blocking=True)"
      ],
      "metadata": {
        "trusted": true,
        "execution": {
          "iopub.status.busy": "2025-06-09T08:34:16.30556Z",
          "iopub.execute_input": "2025-06-09T08:34:16.305868Z",
          "iopub.status.idle": "2025-06-09T08:34:16.30983Z",
          "shell.execute_reply.started": "2025-06-09T08:34:16.305847Z",
          "shell.execute_reply": "2025-06-09T08:34:16.308986Z"
        },
        "id": "hkv4btRs0MLj"
      },
      "outputs": [],
      "execution_count": null
    },
    {
      "cell_type": "code",
      "source": [
        "for images, labels in train_dl:\n",
        "    print(images.shape)\n",
        "    images=to_device(images,device)\n",
        "    print(images.device)\n",
        "    break"
      ],
      "metadata": {
        "trusted": true,
        "execution": {
          "iopub.status.busy": "2025-06-09T08:34:54.996818Z",
          "iopub.execute_input": "2025-06-09T08:34:54.997178Z",
          "iopub.status.idle": "2025-06-09T08:34:55.177146Z",
          "shell.execute_reply.started": "2025-06-09T08:34:54.997157Z",
          "shell.execute_reply": "2025-06-09T08:34:55.176381Z"
        },
        "id": "bUZW2lfV0MLk",
        "outputId": "6c9ddf7b-b28a-4e42-f503-e124d2fb4fcf"
      },
      "outputs": [
        {
          "name": "stdout",
          "text": "torch.Size([100, 3, 28, 28])\ncuda:0\n",
          "output_type": "stream"
        }
      ],
      "execution_count": null
    },
    {
      "cell_type": "code",
      "source": [
        "class DeviceDataLoader():\n",
        "    \"\"\"Wrap a dataloader to move data to a device\"\"\"\n",
        "    def __init__(self,dl,device):\n",
        "        self.dl=dl\n",
        "        self.device=device\n",
        "\n",
        "    def __iter__(self):\n",
        "        \"\"\"Yield a batch of data after moving it to device\"\"\"\n",
        "        for b in self.dl:\n",
        "            yield to_device(b,self.device) #ca genere le batch sans repetition\n",
        "\n",
        "    def __len__(self):\n",
        "        \"\"\"Number of batches\"\"\"\n",
        "        return len(self.dl)"
      ],
      "metadata": {
        "trusted": true,
        "execution": {
          "iopub.status.busy": "2025-06-09T09:41:19.475528Z",
          "iopub.execute_input": "2025-06-09T09:41:19.475824Z",
          "iopub.status.idle": "2025-06-09T09:41:19.480701Z",
          "shell.execute_reply.started": "2025-06-09T09:41:19.475803Z",
          "shell.execute_reply": "2025-06-09T09:41:19.480108Z"
        },
        "id": "-LwUC_is0MLo"
      },
      "outputs": [],
      "execution_count": null
    },
    {
      "cell_type": "code",
      "source": [
        "train_dl=DeviceDataLoader(train_dl,device)\n",
        "val_dl=DeviceDataLoader(val_dl,device)"
      ],
      "metadata": {
        "trusted": true,
        "execution": {
          "iopub.status.busy": "2025-06-09T09:41:21.149243Z",
          "iopub.execute_input": "2025-06-09T09:41:21.149513Z",
          "iopub.status.idle": "2025-06-09T09:41:21.15331Z",
          "shell.execute_reply.started": "2025-06-09T09:41:21.149493Z",
          "shell.execute_reply": "2025-06-09T09:41:21.152534Z"
        },
        "id": "lEpMT_Fl0MLq"
      },
      "outputs": [],
      "execution_count": null
    },
    {
      "cell_type": "code",
      "source": [
        "for xb,yb in val_dl:\n",
        "    print('xb device: ',xb.device)\n",
        "    print('yb',yb.reshape(-1))\n",
        "    break"
      ],
      "metadata": {
        "trusted": true,
        "execution": {
          "iopub.status.busy": "2025-06-09T09:41:23.174676Z",
          "iopub.execute_input": "2025-06-09T09:41:23.17527Z",
          "iopub.status.idle": "2025-06-09T09:41:23.201348Z",
          "shell.execute_reply.started": "2025-06-09T09:41:23.175248Z",
          "shell.execute_reply": "2025-06-09T09:41:23.200787Z"
        },
        "id": "XYNg2uzY0MLr",
        "outputId": "046ee2f3-5761-430b-eb5d-07d42c1a2352"
      },
      "outputs": [
        {
          "name": "stdout",
          "text": "xb device:  cuda:0\nyb tensor([5, 0, 1, 7, 1, 4, 3, 8, 6, 7, 3, 7, 2, 2, 5, 5, 7, 5, 4, 8, 6, 4, 4, 3,\n        5, 6, 6, 6, 0, 3, 0, 2, 1, 8, 4, 1, 3, 4, 2, 1, 1, 8, 4, 3, 7, 2, 6, 0,\n        2, 0, 3, 6, 8, 4, 8, 8, 2, 5, 3, 4, 1, 7, 3, 8, 6, 2, 8, 8, 6, 8, 5, 4,\n        5, 1, 6, 8, 8, 6, 4, 8, 1, 3, 2, 3, 6, 2, 3, 8, 2, 3, 0, 8, 8, 5, 8, 1,\n        2, 1, 8, 8], device='cuda:0')\n",
          "output_type": "stream"
        }
      ],
      "execution_count": null
    },
    {
      "cell_type": "markdown",
      "source": [
        "# **3. Defining the model functions**"
      ],
      "metadata": {
        "id": "q6Dob6xN0MLt"
      }
    },
    {
      "cell_type": "markdown",
      "source": [
        "## **1. Loss batch function**"
      ],
      "metadata": {
        "id": "w3Yivsyk0MLu"
      }
    },
    {
      "cell_type": "code",
      "source": [
        "def loss_batch(model,loss_func,xb,yb,opt=None,metric=None):\n",
        "    #Calculate loss\n",
        "    preds=model(xb)\n",
        "    yb=yb.reshape(-1)\n",
        "    loss=loss_func(preds,yb)\n",
        "\n",
        "    if opt is not None:\n",
        "        #Compute gradients\n",
        "        loss.backward()\n",
        "        #Update parameters\n",
        "        opt.step()\n",
        "        #Reset gradients\n",
        "        opt.zero_grad()\n",
        "\n",
        "    metric_result=None\n",
        "    if metric is not None:\n",
        "        #Compute the metric\n",
        "        metric_result=metric(preds,yb)\n",
        "\n",
        "    return loss.item(),len(xb),metric_result"
      ],
      "metadata": {
        "trusted": true,
        "execution": {
          "iopub.status.busy": "2025-06-09T09:14:10.28097Z",
          "iopub.execute_input": "2025-06-09T09:14:10.281708Z",
          "iopub.status.idle": "2025-06-09T09:14:10.286329Z",
          "shell.execute_reply.started": "2025-06-09T09:14:10.281685Z",
          "shell.execute_reply": "2025-06-09T09:14:10.285505Z"
        },
        "id": "WmOkhGs50MLu"
      },
      "outputs": [],
      "execution_count": null
    },
    {
      "cell_type": "markdown",
      "source": [
        "## **2. Evaluate fonction**"
      ],
      "metadata": {
        "id": "7G8MNCzl0MLv"
      }
    },
    {
      "cell_type": "code",
      "source": [
        "def evaluate(model,loss_fn,val_dl,metric=None):\n",
        "    with torch.no_grad():\n",
        "        results=[loss_batch(model,loss_fn,xb,yb.reshape(-1),metric=metric)\n",
        "                for xb,yb in val_dl]\n",
        "        losses,nums,metrics=zip(*results)\n",
        "        total=np.sum(nums)\n",
        "        avg_loss=np.sum(np.multiply(losses,nums))/total\n",
        "        avg_metric=None\n",
        "        if metric is not None:\n",
        "            avg_metric=np.sum(np.multiply(metrics,nums))/total\n",
        "\n",
        "    return avg_loss,total,avg_metric"
      ],
      "metadata": {
        "trusted": true,
        "execution": {
          "iopub.status.busy": "2025-06-09T09:21:37.148794Z",
          "iopub.execute_input": "2025-06-09T09:21:37.149543Z",
          "iopub.status.idle": "2025-06-09T09:21:37.15425Z",
          "shell.execute_reply.started": "2025-06-09T09:21:37.149518Z",
          "shell.execute_reply": "2025-06-09T09:21:37.153439Z"
        },
        "id": "Va5o_1CH0MLy"
      },
      "outputs": [],
      "execution_count": null
    },
    {
      "cell_type": "markdown",
      "source": [
        "## **3. Fit function**"
      ],
      "metadata": {
        "id": "kCO31FP50MLz"
      }
    },
    {
      "cell_type": "code",
      "source": [
        "def fit(epochs,lr,model,loss_fn,train_dl,val_dl,metric=None,opt_fn=None):\n",
        "    losses,metrics=[],[]\n",
        "\n",
        "    if opt_fn is None: opt_fn=torch.optim.SGD\n",
        "    opt = opt_fn(model.parameters(), lr=lr)\n",
        "\n",
        "\n",
        "    for epoch in range(epochs):\n",
        "        #Train\n",
        "        for xb,yb in train_dl:\n",
        "            yb=yb.reshape(-1)\n",
        "            loss,_,_=loss_batch(model,loss_fn,xb,yb,opt)\n",
        "\n",
        "        #Evaluate\n",
        "        result=evaluate(model,loss_fn,val_dl,metric)\n",
        "        val_loss,total,val_metric=result\n",
        "\n",
        "        #Record Loss and metric\n",
        "        losses.append(val_loss)\n",
        "        metrics.append(val_metric)\n",
        "\n",
        "        if metric is None:\n",
        "            print(f'Epoch [{epoch+1}/{epochs}, Loss: {val_loss:.4f}')\n",
        "        else:\n",
        "\n",
        "            print(f'Epoch [{epoch+1}/{epochs}, Loss: {val_loss:.4f}, {metric.__name__} : {val_metric}')\n",
        "\n",
        "    return losses,metrics"
      ],
      "metadata": {
        "trusted": true,
        "execution": {
          "iopub.status.busy": "2025-06-09T09:21:44.095766Z",
          "iopub.execute_input": "2025-06-09T09:21:44.096056Z",
          "iopub.status.idle": "2025-06-09T09:21:44.101868Z",
          "shell.execute_reply.started": "2025-06-09T09:21:44.096034Z",
          "shell.execute_reply": "2025-06-09T09:21:44.10114Z"
        },
        "id": "kpSxkZRq0ML0"
      },
      "outputs": [],
      "execution_count": null
    },
    {
      "cell_type": "markdown",
      "source": [
        "## **4. Accuracy function**"
      ],
      "metadata": {
        "id": "bu-dfU3-0ML1"
      }
    },
    {
      "cell_type": "code",
      "source": [
        "def accuracy(outputs,labels):\n",
        "    _,preds=torch.max(outputs,dim=1) #on prend juste l'index du max\n",
        "    return torch.sum(preds==labels).item()/len(preds)"
      ],
      "metadata": {
        "trusted": true,
        "execution": {
          "iopub.status.busy": "2025-06-09T09:31:28.417429Z",
          "iopub.execute_input": "2025-06-09T09:31:28.418167Z",
          "iopub.status.idle": "2025-06-09T09:31:28.421661Z",
          "shell.execute_reply.started": "2025-06-09T09:31:28.418143Z",
          "shell.execute_reply": "2025-06-09T09:31:28.420998Z"
        },
        "id": "ARTAl_dw0ML1"
      },
      "outputs": [],
      "execution_count": null
    },
    {
      "cell_type": "code",
      "source": [
        "for xb,yb in train_dl:\n",
        "    output=model(xb)\n",
        "    print(output.shape)\n",
        "    #print(output)\n",
        "    print(yb.shape)\n",
        "    print(torch.max(output, dim=1))\n",
        "    break"
      ],
      "metadata": {
        "trusted": true,
        "execution": {
          "iopub.status.busy": "2025-06-09T09:42:40.63639Z",
          "iopub.execute_input": "2025-06-09T09:42:40.636888Z",
          "iopub.status.idle": "2025-06-09T09:42:40.671788Z",
          "shell.execute_reply.started": "2025-06-09T09:42:40.636863Z",
          "shell.execute_reply": "2025-06-09T09:42:40.671107Z"
        },
        "id": "Tz4w3lQl0ML2",
        "outputId": "ba7667a5-79c6-47dd-aabe-6d1b8074b849"
      },
      "outputs": [
        {
          "name": "stdout",
          "text": "torch.Size([100, 9])\ntorch.Size([100, 1])\ntorch.return_types.max(\nvalues=tensor([0.2229, 0.1908, 0.2015, 0.2050, 0.1437, 0.1720, 0.1513, 0.2053, 0.2173,\n        0.1538, 0.1970, 0.2577, 0.2122, 0.1264, 0.2612, 0.2404, 0.2219, 0.1486,\n        0.0854, 0.2012, 0.2228, 0.2316, 0.2164, 0.0939, 0.1675, 0.3071, 0.1639,\n        0.2252, 0.2629, 0.1985, 0.3092, 0.1943, 0.2030, 0.2773, 0.2648, 0.3126,\n        0.2750, 0.2496, 0.0926, 0.1728, 0.1409, 0.1081, 0.1708, 0.2389, 0.1852,\n        0.2725, 0.1757, 0.1992, 0.2469, 0.1604, 0.3534, 0.2175, 0.2929, 0.2123,\n        0.2109, 0.2588, 0.1672, 0.3141, 0.2700, 0.1655, 0.2069, 0.1459, 0.2437,\n        0.2350, 0.1756, 0.1967, 0.2786, 0.2110, 0.1660, 0.1250, 0.1752, 0.0764,\n        0.2300, 0.2243, 0.1840, 0.1156, 0.2161, 0.1457, 0.2134, 0.1789, 0.2531,\n        0.1967, 0.2046, 0.1507, 0.1924, 0.2629, 0.1563, 0.1689, 0.2403, 0.1933,\n        0.1672, 0.2411, 0.2283, 0.1884, 0.2381, 0.1548, 0.2244, 0.2179, 0.2210,\n        0.1206], device='cuda:0', grad_fn=<MaxBackward0>),\nindices=tensor([6, 7, 5, 6, 7, 1, 1, 6, 6, 7, 7, 5, 5, 7, 6, 6, 6, 5, 1, 6, 6, 6, 6, 7,\n        7, 6, 6, 1, 7, 7, 6, 7, 7, 5, 6, 5, 5, 6, 2, 7, 7, 6, 6, 6, 6, 7, 7, 6,\n        7, 7, 6, 6, 7, 6, 5, 6, 6, 1, 5, 6, 6, 6, 5, 6, 7, 6, 5, 7, 5, 6, 7, 1,\n        7, 6, 7, 7, 7, 6, 6, 6, 6, 6, 7, 7, 6, 6, 6, 6, 6, 6, 6, 5, 7, 5, 5, 6,\n        7, 1, 1, 7], device='cuda:0'))\n",
          "output_type": "stream"
        }
      ],
      "execution_count": null
    },
    {
      "cell_type": "markdown",
      "source": [
        "# **4. Training the model**"
      ],
      "metadata": {
        "id": "A5tBM1-80ML4"
      }
    },
    {
      "cell_type": "code",
      "source": [
        "model=PathMnistModel(input_size,hidden_size=256,out_size=num_classes)\n",
        "to_device(model,device)"
      ],
      "metadata": {
        "trusted": true,
        "execution": {
          "iopub.status.busy": "2025-06-09T09:42:34.939195Z",
          "iopub.execute_input": "2025-06-09T09:42:34.939738Z",
          "iopub.status.idle": "2025-06-09T09:42:34.95119Z",
          "shell.execute_reply.started": "2025-06-09T09:42:34.939718Z",
          "shell.execute_reply": "2025-06-09T09:42:34.950629Z"
        },
        "id": "JTxyGMIv0ML5",
        "outputId": "9ee94a71-f2b9-4734-d945-7bc9a9252a35"
      },
      "outputs": [
        {
          "execution_count": 118,
          "output_type": "execute_result",
          "data": {
            "text/plain": "PathMnistModel(\n  (linear1): Linear(in_features=2352, out_features=256, bias=True)\n  (linear2): Linear(in_features=256, out_features=9, bias=True)\n)"
          },
          "metadata": {}
        }
      ],
      "execution_count": null
    },
    {
      "cell_type": "code",
      "source": [
        "val_loss,total,val_acc=evaluate(model,F.cross_entropy,val_dl,metric=accuracy)\n",
        "print(f'Loss : {val_loss:.4f}, Accuracy : {val_acc:.4f}')"
      ],
      "metadata": {
        "trusted": true,
        "execution": {
          "iopub.status.busy": "2025-06-09T09:43:00.522044Z",
          "iopub.execute_input": "2025-06-09T09:43:00.522762Z",
          "iopub.status.idle": "2025-06-09T09:43:02.334034Z",
          "shell.execute_reply.started": "2025-06-09T09:43:00.522742Z",
          "shell.execute_reply": "2025-06-09T09:43:02.333363Z"
        },
        "id": "d4XVCE8H0ML9",
        "outputId": "2d5db483-8fc7-41ea-f923-e4c20e4af615"
      },
      "outputs": [
        {
          "name": "stdout",
          "text": "Loss : 2.1972, Accuracy : 0.1054\n",
          "output_type": "stream"
        }
      ],
      "execution_count": null
    },
    {
      "cell_type": "code",
      "source": [
        "lr = 0.01\n",
        "epochs = 5\n",
        "losses1,metrics1=fit(epochs,lr,model,F.cross_entropy,train_dl,val_dl,accuracy)"
      ],
      "metadata": {
        "trusted": true,
        "execution": {
          "iopub.status.busy": "2025-06-09T09:45:23.479552Z",
          "iopub.execute_input": "2025-06-09T09:45:23.480208Z",
          "iopub.status.idle": "2025-06-09T09:46:56.255109Z",
          "shell.execute_reply.started": "2025-06-09T09:45:23.480186Z",
          "shell.execute_reply": "2025-06-09T09:46:56.254488Z"
        },
        "id": "UVJHBw-E0ML9",
        "outputId": "ca509c97-6a33-40c1-aa88-4b2144314ea2"
      },
      "outputs": [
        {
          "name": "stdout",
          "text": "Epoch [1/5, Loss: 1.8278, accuracy : 0.2928828468612555\nEpoch [2/5, Loss: 1.7695, accuracy : 0.3179728108756497\nEpoch [3/5, Loss: 1.7241, accuracy : 0.36075569772091165\nEpoch [4/5, Loss: 1.6788, accuracy : 0.3392642942822871\nEpoch [5/5, Loss: 1.6387, accuracy : 0.3872451019592163\n",
          "output_type": "stream"
        }
      ],
      "execution_count": null
    },
    {
      "cell_type": "code",
      "source": [
        "losses2,metrics2=fit(5,0.001,model,F.cross_entropy,train_dl,val_dl,accuracy)"
      ],
      "metadata": {
        "trusted": true,
        "execution": {
          "iopub.status.busy": "2025-06-09T09:47:34.720119Z",
          "iopub.execute_input": "2025-06-09T09:47:34.720809Z",
          "iopub.status.idle": "2025-06-09T09:49:07.710741Z",
          "shell.execute_reply.started": "2025-06-09T09:47:34.720787Z",
          "shell.execute_reply": "2025-06-09T09:49:07.709925Z"
        },
        "id": "QV3xJKCg0MMA",
        "outputId": "2c0b5591-215c-4b67-b790-88c4d4f3512a"
      },
      "outputs": [
        {
          "name": "stdout",
          "text": "Epoch [1/5, Loss: 1.6349, accuracy : 0.3829468212714914\nEpoch [2/5, Loss: 1.6323, accuracy : 0.3909436225509796\nEpoch [3/5, Loss: 1.6298, accuracy : 0.390843662534986\nEpoch [4/5, Loss: 1.6276, accuracy : 0.3799480207916833\nEpoch [5/5, Loss: 1.6254, accuracy : 0.4022391043582567\n",
          "output_type": "stream"
        }
      ],
      "execution_count": null
    },
    {
      "cell_type": "code",
      "source": [
        "losses3,metrics3=fit(5,0.001,model,F.cross_entropy,train_dl,val_dl,accuracy)"
      ],
      "metadata": {
        "trusted": true,
        "execution": {
          "iopub.status.busy": "2025-06-09T09:51:08.421804Z",
          "iopub.execute_input": "2025-06-09T09:51:08.42214Z",
          "iopub.status.idle": "2025-06-09T09:52:41.124694Z",
          "shell.execute_reply.started": "2025-06-09T09:51:08.42212Z",
          "shell.execute_reply": "2025-06-09T09:52:41.123905Z"
        },
        "id": "g3HQ9GSt0MMB",
        "outputId": "c4462401-0251-4149-be62-6c461620b7b4"
      },
      "outputs": [
        {
          "name": "stdout",
          "text": "Epoch [1/5, Loss: 1.6229, accuracy : 0.39344262295081966\nEpoch [2/5, Loss: 1.6207, accuracy : 0.4057377049180328\nEpoch [3/5, Loss: 1.6183, accuracy : 0.3905437824870052\nEpoch [4/5, Loss: 1.6096, accuracy : 0.40453818472610953\nEpoch [5/5, Loss: 1.5934, accuracy : 0.4068372650939624\n",
          "output_type": "stream"
        }
      ],
      "execution_count": null
    },
    {
      "cell_type": "code",
      "source": [
        "accuracies=[val_acc]+metrics1+metrics2+metrics3\n",
        "plt.plot(accuracies,'-x')\n",
        "plt.xlabel('epoch')\n",
        "plt.ylabel('accuracy')\n",
        "plt.title('Accuracy vs No. of epochs')"
      ],
      "metadata": {
        "trusted": true,
        "execution": {
          "iopub.status.busy": "2025-06-09T09:52:44.120776Z",
          "iopub.execute_input": "2025-06-09T09:52:44.121062Z",
          "iopub.status.idle": "2025-06-09T09:52:44.289296Z",
          "shell.execute_reply.started": "2025-06-09T09:52:44.121041Z",
          "shell.execute_reply": "2025-06-09T09:52:44.288587Z"
        },
        "id": "zdMYeB3P0MMC",
        "outputId": "84feb237-78a7-41ec-d133-511688f8176e"
      },
      "outputs": [
        {
          "execution_count": 126,
          "output_type": "execute_result",
          "data": {
            "text/plain": "Text(0.5, 1.0, 'Accuracy vs No. of epochs')"
          },
          "metadata": {}
        },
        {
          "output_type": "display_data",
          "data": {
            "text/plain": "<Figure size 640x480 with 1 Axes>",
            "image/png": "[encoded data removed]"
          },
          "metadata": {}
        }
      ],
      "execution_count": null
    },
    {
      "cell_type": "markdown",
      "source": [
        "# **5. Conclusion**\n",
        "\n",
        "Avec un ``DNN (Deep Neural Network)`` on ne peut atteindre plus de ``40% - 50% d'accuracy`` sur des images médicales complexes de PathMNIST.\n",
        "\n",
        "Pour dépasser ``70%-80% d'accuracy`` il faut passer par un ``CNN (convolutional neural network)`` même simple."
      ],
      "metadata": {
        "id": "LHkCBusB0MMD"
      }
    },
    {
      "cell_type": "code",
      "source": [],
      "metadata": {
        "trusted": true,
        "id": "JaEsxpCC0MMF"
      },
      "outputs": [],
      "execution_count": null
    }
  ]
}